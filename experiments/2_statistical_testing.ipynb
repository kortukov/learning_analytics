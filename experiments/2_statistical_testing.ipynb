{
 "cells": [
  {
   "cell_type": "markdown",
   "id": "3ee13d5f",
   "metadata": {},
   "source": [
    "# Hypothesis testing\n",
    "\n",
    "\n",
    "## Analysing differences in graduation probaility in olympiad winners\n",
    "\n",
    "In this part of the analysis we estimate the graduation success probability of two groups of students: olympiad prize holders and students who did not take part in any mathematics or informatics olympiads. We show that there are statistically significant differences by utilising binomial testing.\n",
    "\n",
    "### Motivation:\n",
    "In Russian higher education system mathematics and informatics olympiads play a crucial role. They are a primary method of seeking, identifying and developing young talents. Olympiads provide equal opportunities to get access to the best educational facilities to determined schoolchildren of any background and socio-economic status.\n",
    "University admission offices, on the other hand, compete with each other to get olympiad winners. Thus they provide benefits to them in the admission process.\n",
    "\n",
    "Here we seek to justify this approach with data and also motivate further analysis of university-level performance of olympiad winners.\n",
    "\n",
    "\n",
    "### Analysis:\n",
    "We want to test the null-hypothesis that olympiad winners have the same probability of successfully graduating from university as regularly admitted students.\n",
    "\n",
    "To this end we conduct an observational study, with the dependant variable being successful graduation and independent variable being the presence of prizes in mathematics and informatics olympiads. Our sampling distribution are graduated and dropped out students of one of Russian universities. This sampling strategy can be considered to be unbiased if we want to infer statements about the population of university students, or, even narrower, about the students of this particular university. Which is the kind of analysis that is of use to an admissions office. \n",
    "\n",
    "Our dataset includes **#TODO**  datapoints of bachelor students who either graduated or dropped out.\n",
    "We divide this subset of data into two groups - students who were admitted to the study program because they were olympiad prize holders (**olympiad winners, #TODO students**) and those who were admitted according to their state exam results (**regularly admitted students, #TODO students**).\n"
   ]
  },
  {
   "cell_type": "markdown",
   "id": "75b38938",
   "metadata": {},
   "source": [
    "### Model:\n",
    "We model each group of students as a series of independent Bernoulli experiments with unknown success probability $\\pi$ that we would like to estimate. To do this we use Bayesian inference.\n",
    "\n",
    "Let $X_o$ be the subset of $n_o$ datapoints of olympiad winners, $m_o$ of whom graduated successfully. Then $X_r$ - subset of $n_r$ regularly admitted students with $m_r$ successful graduates.\n",
    "We would like to estimate the probabilities of graduation in both groups $\\pi_o$ and $\\pi_r$.\n",
    "\n",
    "\n",
    "To give a first estimate we use use the sampling (\"Monte-Carlo\") estimator:\n",
    "\n",
    "$\n",
    "\\hat{\\pi_o} = \\frac{1}{n_o}\\sum_{x_i \\in X_o}{x_i} = \\frac{m_o}{n_o} = \n",
    "$\n",
    "\n",
    "$\n",
    "\\hat{\\pi_r} = \\frac{1}{n_r}\\sum_{x_i \\in X_r}{x_i} = \\frac{m_r}{n_r} =\n",
    "$\n",
    "\n",
    "Which leads us to conjecture that **#TODO** are more likely to graduate successfully. We proceed with a more rigorous analysis of this claim.\n",
    "\n",
    "In a series of Bernoulli experiments with parameter $\\pi$ the likelihood of seeing $m$ successes out of $n$ trials is given by:\\\n",
    "$\n",
    "p(m,n ; \\pi) = {n\\choose m}(\\pi^m (1-\\pi)^{n-m})\n",
    "$\n",
    "\n",
    "We consider a uniform beta prior $\\mathcal{B}(\\pi ; 1,1)$ which we find to be a reasonable assumption, as we don't have any knowledge of graduating probabilities before seeing the data.\n",
    "Posterior distribution over $\\pi$ is then Beta distribution $\\mathcal{B}(\\pi ; m+1,n-m+1)$.\n",
    "\n",
    "For $m+1>1$ and $n-m+1>1$ the mode is given by $\\frac{\\alpha-1}{\\alpha+\\beta-2} = \\frac{m}{n}$ which is the maximum aposteriori estimator of $\\pi$.\n",
    "\n",
    "So:\\\n",
    "$\\pi_{o-MAP} = \\hat{\\pi_o} = $\\\n",
    "$\\pi_{r-MAP} = \\hat{\\pi_r} = $\n",
    "\\\n",
    "Under our model we can say that with 95% probability $\\pi_o$ lies in the interval $[;]$ and $\\pi_r$ lies in the interval $[;]$.\n",
    "\n",
    "Now we are ready to test the hypothesis $\\mathcal{H_0}$: Olympiad winners have the same probability of successful graduation as students admitted under the regular procedure.\n",
    "Note, that:\n",
    "\n",
    "1) Under the null hypothesis $\\mathcal{H_0}$ we have $\\pi_r = \\pi_0 = \\pi$ and the likelihood of observing $m_o$ successfully graduated olympiad winners given a particular probability $p(m_o| \\pi)$ follows a binomial distribution.\n",
    "\n",
    "2) The previously achieved Beta-posterior over $\\pi$ now acts as a prior ans so $ p(\\pi | m_r, n_r) = \\mathcal{B}(\\pi;m_r+1, (n_r - m_r) + 1)$\n",
    "\n",
    "3) To find the probability of observing $m_o$ successfully graduated olympiad winners under the null hypothesis we marginalise over $\\pi$ $p(m_o | \\mathcal{H}_0) = \\int p(m_o | \\pi) p(\\pi | m_r, n_r)\\,d\\pi$\n",
    "\n",
    "This results in Beta-binomial distribution.\n",
    "\n",
    "\n",
    "\n",
    "\\begin{equation}\n",
    "    p(m_o | \\mathcal{H}_0)\n",
    "    = p(m_o | n_o, m_r, n_r) \n",
    "    = {n_o \\choose m_o}\n",
    "    \\frac{\\mathcal{B}(m_r + m_o + 1, (n_r - m_r) + (n_o - m_o) +1)}\n",
    "    {\\mathcal{B}(m_r + 1, (n_r - m_r) + 1)}\n",
    "\\end{equation}\n",
    "\n",
    "\n",
    "We compute the probability of seeing $m_r$ or even more successfully graduated olympiad winners under the null hypothesis and achieve the p-value of **#TODO** which leads us to: **#TODO**\n",
    "\n",
    "### Results:\n",
    "\n",
    "\n",
    "---"
   ]
  },
  {
   "cell_type": "code",
   "execution_count": null,
   "id": "b755f716",
   "metadata": {},
   "outputs": [],
   "source": []
  },
  {
   "cell_type": "code",
   "execution_count": 3,
   "id": "1fdf04df",
   "metadata": {},
   "outputs": [
    {
     "name": "stdout",
     "output_type": "stream",
     "text": [
      "The autoreload extension is already loaded. To reload it, use:\n",
      "  %reload_ext autoreload\n"
     ]
    }
   ],
   "source": [
    "import os\n",
    "os.chdir('..')\n",
    "os.getcwd()\n",
    "\n",
    "%load_ext autoreload\n",
    "%autoreload 2\n",
    "\n",
    "import pandas as pd"
   ]
  },
  {
   "cell_type": "code",
   "execution_count": 4,
   "id": "c93bb145",
   "metadata": {},
   "outputs": [
    {
     "name": "stderr",
     "output_type": "stream",
     "text": [
      "/Users/sbokupripeku/opt/miniconda3/lib/python3.9/site-packages/IPython/core/interactiveshell.py:3441: DtypeWarning: Columns (21,22,23,53) have mixed types.Specify dtype option on import or set low_memory=False.\n",
      "  exec(code_obj, self.user_global_ns, self.user_ns)\n"
     ]
    }
   ],
   "source": [
    "df = pd.read_csv('data/preprocessed_data.csv')"
   ]
  },
  {
   "cell_type": "code",
   "execution_count": null,
   "id": "541a603c",
   "metadata": {},
   "outputs": [],
   "source": []
  }
 ],
 "metadata": {
  "kernelspec": {
   "display_name": "Python 3 (ipykernel)",
   "language": "python",
   "name": "python3"
  },
  "language_info": {
   "codemirror_mode": {
    "name": "ipython",
    "version": 3
   },
   "file_extension": ".py",
   "mimetype": "text/x-python",
   "name": "python",
   "nbconvert_exporter": "python",
   "pygments_lexer": "ipython3",
   "version": "3.9.5"
  }
 },
 "nbformat": 4,
 "nbformat_minor": 5
}
