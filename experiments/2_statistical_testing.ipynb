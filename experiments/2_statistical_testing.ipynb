{
 "cells": [
  {
   "cell_type": "markdown",
   "id": "b0652861",
   "metadata": {},
   "source": [
    "# Hypothesis testing\n",
    "\n",
    "Draft\n",
    "\n",
    "Motivation:\n",
    "In Russian higher education system mathematics and informatics olympiads play a crucial role. They are a primary method of seeking, identifying and developing young talents. Olympiads provide opportunities to get access to the best educational facilities to schoolchildren of any socio-economic status even in the most remote parts of the country.\n",
    "University admission offices, on the other hand, compete\n",
    "\n",
    "What are we doing:\n",
    "\n",
    "How are we doing it:\n",
    "\n",
    "What are the results:"
   ]
  },
  {
   "cell_type": "code",
   "execution_count": null,
   "id": "3780973d",
   "metadata": {},
   "outputs": [],
   "source": []
  }
 ],
 "metadata": {
  "kernelspec": {
   "display_name": "Python 3 (ipykernel)",
   "language": "python",
   "name": "python3"
  },
  "language_info": {
   "codemirror_mode": {
    "name": "ipython",
    "version": 3
   },
   "file_extension": ".py",
   "mimetype": "text/x-python",
   "name": "python",
   "nbconvert_exporter": "python",
   "pygments_lexer": "ipython3",
   "version": "3.9.5"
  }
 },
 "nbformat": 4,
 "nbformat_minor": 5
}
